{
 "cells": [
  {
   "cell_type": "markdown",
   "metadata": {},
   "source": [
    "## The code for the temperature script in it's entirety is below. "
   ]
  },
  {
   "cell_type": "code",
   "execution_count": null,
   "metadata": {
    "collapsed": true
   },
   "outputs": [],
   "source": [
    "# %load ./temperature.py\n",
    "\"\"\"\n",
    "Created on Mon Jan 30 09:57:54 2017\n",
    "\n",
    "@author: abrown09\n",
    "\"\"\"\n",
    "\n",
    "#%%\n",
    "import requests\n",
    "import sqlite3 as lite\n",
    "import datetime\n",
    "\n",
    "#%% cities\n",
    "cities = {\"Austin\": '30.303936,-97.754355', \n",
    "          \"Boston\": '42.331960,-71.020173', \n",
    "          \"Denver\": '39.761850,-104.881105',\n",
    "          \"Philadelphia\": '40.009376,-75.133346', \n",
    "          \"Seattle\": '47.620499,-122.350876'}\n",
    "\n",
    "#%% registration key\n",
    "key = '639ce0362fcf0b3d32e083d8ff6bab72/'\n",
    "url = 'https://api.forecast.io/forecast/' + key # original url\n",
    "\n",
    "#%% terms of service\n",
    "tos = 'Powered by Dark Sky at https://darksky.net/poweredby/'\n",
    "\n",
    "#%%\n",
    "##### Challenge 1: Build the API call\n",
    "\n",
    "end_date = datetime.datetime.now()\n",
    "\n",
    "con = lite.connect('weather.db')\n",
    "cur = con.cursor()\n",
    "\n",
    "cities.keys()\n",
    "with con:\n",
    "    cur.execute('CREATE TABLE daily_temp (day_of_reading INT, Austin REAL, Boston REAL, Denver REAL, Philadelphia REAL, Seattle REAL);')\n",
    "    \n",
    "query_date = end_date - datetime.timedelta(days=30) #the current value being processed\n",
    "\n",
    "#%%\n",
    "with con:\n",
    "    while query_date < end_date:\n",
    "        cur.execute(\"INSERT INTO daily_temp(day_of_reading) VALUES (?)\", (int(query_date.strftime('%S')),))\n",
    "        query_date += datetime.timedelta(days=1)\n",
    "\n",
    "#%%        \n",
    "for k,v in cities.items():\n",
    "    query_date = end_date - datetime.timedelta(days=30) #set value each time through the loop of cities\n",
    "    while query_date < end_date:\n",
    "        #query for the value\n",
    "        r = requests.get(url + v + ',' +  query_date.strftime('%Y-%m-%dT12:00:00'))\n",
    "        \n",
    "#%%\n",
    "        with con:\n",
    "            #insert the temperature max to the database\n",
    "            cur.execute('UPDATE daily_temp SET ' + k + ' = ' + str(r.json()['daily']['data'][0]['temperatureMax']) + ' WHERE day_of_reading = ' + query_date.strftime('%s'))\n",
    "\n",
    "        #increment query_date to the next day for next operation of loop\n",
    "        query_date += datetime.timedelta(days=1) #increment query_date to the next day\n",
    "\n",
    "\n",
    "con.close() # a good practice to close connection to database\n",
    "\n",
    "for k in cities.items():\n",
    "    test = (url + v + ',' + query_date.strftime('%Y-%m-%dT12:00:00'))"
   ]
  },
  {
   "cell_type": "markdown",
   "metadata": {},
   "source": [
    "## The block that is throwing an error is below:"
   ]
  },
  {
   "cell_type": "code",
   "execution_count": null,
   "metadata": {
    "collapsed": true
   },
   "outputs": [],
   "source": [
    "for k,v in cities.items():\n",
    "    query_date = end_date - datetime.timedelta(days=30) #set value each time through the loop of cities\n",
    "    while query_date < end_date:\n",
    "        #query for the value\n",
    "        r = requests.get(url + v + ',' +  query_date.strftime('%Y-%m-%dT12:00:00'))"
   ]
  },
  {
   "cell_type": "markdown",
   "metadata": {},
   "source": [
    "## The error is:"
   ]
  },
  {
   "cell_type": "markdown",
   "metadata": {},
   "source": [
    "## I have checked that the path for the url is correct and tested the call by checking that the code:  r = requests.get(url + v + ',' + query_date.strftime('%Y-%m-%dT12:00:00'))) returns the properly formatted url. It runs for about an hour then throws an SSLError."
   ]
  },
  {
   "cell_type": "code",
   "execution_count": null,
   "metadata": {
    "collapsed": true
   },
   "outputs": [],
   "source": []
  }
 ],
 "metadata": {
  "kernelspec": {
   "display_name": "Python [ipykernel_py3]",
   "language": "python",
   "name": "Python [ipykernel_py3]"
  },
  "language_info": {
   "codemirror_mode": {
    "name": "ipython",
    "version": 3
   },
   "file_extension": ".py",
   "mimetype": "text/x-python",
   "name": "python",
   "nbconvert_exporter": "python",
   "pygments_lexer": "ipython3",
   "version": "3.6.0"
  }
 },
 "nbformat": 4,
 "nbformat_minor": 0
}
